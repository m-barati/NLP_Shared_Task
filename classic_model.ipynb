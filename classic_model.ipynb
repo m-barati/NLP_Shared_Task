{
  "nbformat": 4,
  "nbformat_minor": 0,
  "metadata": {
    "colab": {
      "name": "Experiments.ipynb",
      "provenance": [],
      "authorship_tag": "ABX9TyNgedEA4vD3iuFRqw4Gz+aM",
      "include_colab_link": true
    },
    "kernelspec": {
      "name": "python3",
      "display_name": "Python 3"
    },
    "language_info": {
      "name": "python"
    }
  },
  "cells": [
    {
      "cell_type": "markdown",
      "metadata": {
        "id": "view-in-github",
        "colab_type": "text"
      },
      "source": [
        "<a href=\"https://colab.research.google.com/github/m-barati/NLP_Shared_Task/blob/main/classic_model.ipynb\" target=\"_parent\"><img src=\"https://colab.research.google.com/assets/colab-badge.svg\" alt=\"Open In Colab\"/></a>"
      ]
    },
    {
      "cell_type": "code",
      "execution_count": null,
      "metadata": {
        "colab": {
          "base_uri": "https://localhost:8080/"
        },
        "id": "BGcP9-QDByp0",
        "outputId": "3bf5c44d-c4af-4768-e36a-1873232178cf"
      },
      "outputs": [
        {
          "output_type": "stream",
          "name": "stdout",
          "text": [
            "Collecting emoji\n",
            "  Downloading emoji-1.7.0.tar.gz (175 kB)\n",
            "\u001b[?25l\r\u001b[K     |█▉                              | 10 kB 22.4 MB/s eta 0:00:01\r\u001b[K     |███▊                            | 20 kB 6.9 MB/s eta 0:00:01\r\u001b[K     |█████▋                          | 30 kB 4.6 MB/s eta 0:00:01\r\u001b[K     |███████▌                        | 40 kB 4.3 MB/s eta 0:00:01\r\u001b[K     |█████████▍                      | 51 kB 3.4 MB/s eta 0:00:01\r\u001b[K     |███████████▏                    | 61 kB 4.0 MB/s eta 0:00:01\r\u001b[K     |█████████████                   | 71 kB 4.0 MB/s eta 0:00:01\r\u001b[K     |███████████████                 | 81 kB 3.8 MB/s eta 0:00:01\r\u001b[K     |████████████████▉               | 92 kB 4.2 MB/s eta 0:00:01\r\u001b[K     |██████████████████▊             | 102 kB 4.2 MB/s eta 0:00:01\r\u001b[K     |████████████████████▌           | 112 kB 4.2 MB/s eta 0:00:01\r\u001b[K     |██████████████████████▍         | 122 kB 4.2 MB/s eta 0:00:01\r\u001b[K     |████████████████████████▎       | 133 kB 4.2 MB/s eta 0:00:01\r\u001b[K     |██████████████████████████▏     | 143 kB 4.2 MB/s eta 0:00:01\r\u001b[K     |████████████████████████████    | 153 kB 4.2 MB/s eta 0:00:01\r\u001b[K     |█████████████████████████████▉  | 163 kB 4.2 MB/s eta 0:00:01\r\u001b[K     |███████████████████████████████▊| 174 kB 4.2 MB/s eta 0:00:01\r\u001b[K     |████████████████████████████████| 175 kB 4.2 MB/s \n",
            "\u001b[?25hBuilding wheels for collected packages: emoji\n",
            "  Building wheel for emoji (setup.py) ... \u001b[?25l\u001b[?25hdone\n",
            "  Created wheel for emoji: filename=emoji-1.7.0-py3-none-any.whl size=171046 sha256=f6076df8fb5c64364b15f12a8517a313d8aa8b303824d929c77708f6376dc974\n",
            "  Stored in directory: /root/.cache/pip/wheels/8a/4e/b6/57b01db010d17ef6ea9b40300af725ef3e210cb1acfb7ac8b6\n",
            "Successfully built emoji\n",
            "Installing collected packages: emoji\n",
            "Successfully installed emoji-1.7.0\n",
            "Requirement already satisfied: textblob in /usr/local/lib/python3.7/dist-packages (0.15.3)\n",
            "Requirement already satisfied: nltk>=3.1 in /usr/local/lib/python3.7/dist-packages (from textblob) (3.2.5)\n",
            "Requirement already satisfied: six in /usr/local/lib/python3.7/dist-packages (from nltk>=3.1->textblob) (1.15.0)\n",
            "\u001b[K     |████████████████████████████████| 2.6 MB 4.8 MB/s \n",
            "\u001b[K     |████████████████████████████████| 125 kB 43.8 MB/s \n",
            "\u001b[?25h--2022-05-05 21:17:41--  https://raw.githubusercontent.com/mammothb/symspellpy/master/symspellpy/frequency_dictionary_en_82_765.txt\n",
            "Resolving raw.githubusercontent.com (raw.githubusercontent.com)... 185.199.110.133, 185.199.109.133, 185.199.108.133, ...\n",
            "Connecting to raw.githubusercontent.com (raw.githubusercontent.com)|185.199.110.133|:443... connected.\n",
            "HTTP request sent, awaiting response... 200 OK\n",
            "Length: 1332879 (1.3M) [text/plain]\n",
            "Saving to: ‘frequency_dictionary_en_82_765.txt’\n",
            "\n",
            "frequency_dictionar 100%[===================>]   1.27M  --.-KB/s    in 0.06s   \n",
            "\n",
            "2022-05-05 21:17:42 (19.9 MB/s) - ‘frequency_dictionary_en_82_765.txt’ saved [1332879/1332879]\n",
            "\n",
            "[nltk_data] Downloading package punkt to /root/nltk_data...\n",
            "[nltk_data]   Unzipping tokenizers/punkt.zip.\n",
            "[nltk_data] Downloading package stopwords to /root/nltk_data...\n",
            "[nltk_data]   Unzipping corpora/stopwords.zip.\n",
            "[nltk_data] Downloading package wordnet to /root/nltk_data...\n",
            "[nltk_data]   Unzipping corpora/wordnet.zip.\n",
            "[nltk_data] Downloading package averaged_perceptron_tagger to\n",
            "[nltk_data]     /root/nltk_data...\n",
            "[nltk_data]   Unzipping taggers/averaged_perceptron_tagger.zip.\n"
          ]
        },
        {
          "output_type": "execute_result",
          "data": {
            "text/plain": [
              "True"
            ]
          },
          "metadata": {},
          "execution_count": 1
        }
      ],
      "source": [
        "####### IMPORTING AND DOWNLOADING THE NECESSARY LIBARARIES AND MODULES\n",
        "import pandas as pd\n",
        "import tensorflow as tf\n",
        "import re\n",
        "import numpy as np\n",
        "import seaborn as sn\n",
        "import csv\n",
        "import os\n",
        "\n",
        "import nltk\n",
        "from nltk import word_tokenize, TweetTokenizer, pos_tag\n",
        "from nltk.corpus import stopwords, wordnet\n",
        "from nltk.stem import WordNetLemmatizer\n",
        "\n",
        "import matplotlib.pyplot as plt\n",
        "%matplotlib inline\n",
        "\n",
        "from sklearn.metrics import f1_score, classification_report, accuracy_score, confusion_matrix, ConfusionMatrixDisplay\n",
        "from sklearn.model_selection import train_test_split, cross_val_score, GridSearchCV, RandomizedSearchCV\n",
        "from sklearn.feature_extraction.text import TfidfVectorizer, CountVectorizer\n",
        "from sklearn.pipeline import make_pipeline, Pipeline, FeatureUnion\n",
        "from sklearn.linear_model import SGDClassifier, LogisticRegression\n",
        "from sklearn.base import BaseEstimator, TransformerMixin\n",
        "from sklearn.neighbors import KNeighborsClassifier\n",
        "from sklearn.naive_bayes import MultinomialNB, BernoulliNB\n",
        "from sklearn.decomposition import TruncatedSVD\n",
        "from sklearn.tree import DecisionTreeClassifier\n",
        "from sklearn.svm import LinearSVC, SVC\n",
        "from sklearn.ensemble import RandomForestClassifier, VotingClassifier, StackingClassifier \n",
        "from sklearn.compose import make_column_transformer, make_column_selector, ColumnTransformer\n",
        "\n",
        "from xgboost import XGBClassifier\n",
        "\n",
        "!pip install emoji\n",
        "import emoji \n",
        "!pip install textblob\n",
        "import textblob\n",
        "from textblob import TextBlob\n",
        "!pip install -U symspellpy --quiet\n",
        "from symspellpy import SymSpell\n",
        "!wget https://raw.githubusercontent.com/mammothb/symspellpy/master/symspellpy/frequency_dictionary_en_82_765.txt\n",
        "\n",
        "nltk.download('punkt')\n",
        "nltk.download('stopwords')\n",
        "nltk.download('wordnet')\n",
        "nltk.download('averaged_perceptron_tagger')"
      ]
    },
    {
      "cell_type": "code",
      "execution_count": null,
      "metadata": {
        "colab": {
          "base_uri": "https://localhost:8080/"
        },
        "id": "tn2BoaApCExT",
        "outputId": "bfd5f32c-beba-41f2-bfef-728a3b9480ad"
      },
      "outputs": [
        {
          "output_type": "stream",
          "name": "stdout",
          "text": [
            "Mounted at /content/gdrive\n"
          ]
        }
      ],
      "source": [
        "from google.colab import drive\n",
        "drive.mount('/content/gdrive')"
      ]
    },
    {
      "cell_type": "code",
      "execution_count": null,
      "metadata": {
        "id": "OKvjB-WS-FAI"
      },
      "outputs": [],
      "source": [
        "data_path = 'gdrive/MyDrive/ColabNotebooks/NLP_Files/SharedFolder/NLP/ClassicModel/olid-training-v1.0.tsv'"
      ]
    },
    {
      "cell_type": "code",
      "execution_count": null,
      "metadata": {
        "colab": {
          "base_uri": "https://localhost:8080/",
          "height": 206
        },
        "id": "Zb9McF9LBl31",
        "outputId": "461f3fa8-cc68-447b-8dd8-6dffe317b606"
      },
      "outputs": [
        {
          "output_type": "execute_result",
          "data": {
            "text/plain": [
              "      id                                              tweet subtask_a  \\\n",
              "0  86426  @USER She should ask a few native Americans wh...       OFF   \n",
              "1  90194  @USER @USER Go home you’re drunk!!! @USER #MAG...       OFF   \n",
              "2  16820  Amazon is investigating Chinese employees who ...       NOT   \n",
              "3  62688  @USER Someone should'veTaken\" this piece of sh...       OFF   \n",
              "4  43605  @USER @USER Obama wanted liberals &amp; illega...       NOT   \n",
              "\n",
              "  subtask_b subtask_c  \n",
              "0       UNT       NaN  \n",
              "1       TIN       IND  \n",
              "2       NaN       NaN  \n",
              "3       UNT       NaN  \n",
              "4       NaN       NaN  "
            ],
            "text/html": [
              "\n",
              "  <div id=\"df-376f70c9-702f-4dcd-9cfb-acaf0b27289e\">\n",
              "    <div class=\"colab-df-container\">\n",
              "      <div>\n",
              "<style scoped>\n",
              "    .dataframe tbody tr th:only-of-type {\n",
              "        vertical-align: middle;\n",
              "    }\n",
              "\n",
              "    .dataframe tbody tr th {\n",
              "        vertical-align: top;\n",
              "    }\n",
              "\n",
              "    .dataframe thead th {\n",
              "        text-align: right;\n",
              "    }\n",
              "</style>\n",
              "<table border=\"1\" class=\"dataframe\">\n",
              "  <thead>\n",
              "    <tr style=\"text-align: right;\">\n",
              "      <th></th>\n",
              "      <th>id</th>\n",
              "      <th>tweet</th>\n",
              "      <th>subtask_a</th>\n",
              "      <th>subtask_b</th>\n",
              "      <th>subtask_c</th>\n",
              "    </tr>\n",
              "  </thead>\n",
              "  <tbody>\n",
              "    <tr>\n",
              "      <th>0</th>\n",
              "      <td>86426</td>\n",
              "      <td>@USER She should ask a few native Americans wh...</td>\n",
              "      <td>OFF</td>\n",
              "      <td>UNT</td>\n",
              "      <td>NaN</td>\n",
              "    </tr>\n",
              "    <tr>\n",
              "      <th>1</th>\n",
              "      <td>90194</td>\n",
              "      <td>@USER @USER Go home you’re drunk!!! @USER #MAG...</td>\n",
              "      <td>OFF</td>\n",
              "      <td>TIN</td>\n",
              "      <td>IND</td>\n",
              "    </tr>\n",
              "    <tr>\n",
              "      <th>2</th>\n",
              "      <td>16820</td>\n",
              "      <td>Amazon is investigating Chinese employees who ...</td>\n",
              "      <td>NOT</td>\n",
              "      <td>NaN</td>\n",
              "      <td>NaN</td>\n",
              "    </tr>\n",
              "    <tr>\n",
              "      <th>3</th>\n",
              "      <td>62688</td>\n",
              "      <td>@USER Someone should'veTaken\" this piece of sh...</td>\n",
              "      <td>OFF</td>\n",
              "      <td>UNT</td>\n",
              "      <td>NaN</td>\n",
              "    </tr>\n",
              "    <tr>\n",
              "      <th>4</th>\n",
              "      <td>43605</td>\n",
              "      <td>@USER @USER Obama wanted liberals &amp;amp; illega...</td>\n",
              "      <td>NOT</td>\n",
              "      <td>NaN</td>\n",
              "      <td>NaN</td>\n",
              "    </tr>\n",
              "  </tbody>\n",
              "</table>\n",
              "</div>\n",
              "      <button class=\"colab-df-convert\" onclick=\"convertToInteractive('df-376f70c9-702f-4dcd-9cfb-acaf0b27289e')\"\n",
              "              title=\"Convert this dataframe to an interactive table.\"\n",
              "              style=\"display:none;\">\n",
              "        \n",
              "  <svg xmlns=\"http://www.w3.org/2000/svg\" height=\"24px\"viewBox=\"0 0 24 24\"\n",
              "       width=\"24px\">\n",
              "    <path d=\"M0 0h24v24H0V0z\" fill=\"none\"/>\n",
              "    <path d=\"M18.56 5.44l.94 2.06.94-2.06 2.06-.94-2.06-.94-.94-2.06-.94 2.06-2.06.94zm-11 1L8.5 8.5l.94-2.06 2.06-.94-2.06-.94L8.5 2.5l-.94 2.06-2.06.94zm10 10l.94 2.06.94-2.06 2.06-.94-2.06-.94-.94-2.06-.94 2.06-2.06.94z\"/><path d=\"M17.41 7.96l-1.37-1.37c-.4-.4-.92-.59-1.43-.59-.52 0-1.04.2-1.43.59L10.3 9.45l-7.72 7.72c-.78.78-.78 2.05 0 2.83L4 21.41c.39.39.9.59 1.41.59.51 0 1.02-.2 1.41-.59l7.78-7.78 2.81-2.81c.8-.78.8-2.07 0-2.86zM5.41 20L4 18.59l7.72-7.72 1.47 1.35L5.41 20z\"/>\n",
              "  </svg>\n",
              "      </button>\n",
              "      \n",
              "  <style>\n",
              "    .colab-df-container {\n",
              "      display:flex;\n",
              "      flex-wrap:wrap;\n",
              "      gap: 12px;\n",
              "    }\n",
              "\n",
              "    .colab-df-convert {\n",
              "      background-color: #E8F0FE;\n",
              "      border: none;\n",
              "      border-radius: 50%;\n",
              "      cursor: pointer;\n",
              "      display: none;\n",
              "      fill: #1967D2;\n",
              "      height: 32px;\n",
              "      padding: 0 0 0 0;\n",
              "      width: 32px;\n",
              "    }\n",
              "\n",
              "    .colab-df-convert:hover {\n",
              "      background-color: #E2EBFA;\n",
              "      box-shadow: 0px 1px 2px rgba(60, 64, 67, 0.3), 0px 1px 3px 1px rgba(60, 64, 67, 0.15);\n",
              "      fill: #174EA6;\n",
              "    }\n",
              "\n",
              "    [theme=dark] .colab-df-convert {\n",
              "      background-color: #3B4455;\n",
              "      fill: #D2E3FC;\n",
              "    }\n",
              "\n",
              "    [theme=dark] .colab-df-convert:hover {\n",
              "      background-color: #434B5C;\n",
              "      box-shadow: 0px 1px 3px 1px rgba(0, 0, 0, 0.15);\n",
              "      filter: drop-shadow(0px 1px 2px rgba(0, 0, 0, 0.3));\n",
              "      fill: #FFFFFF;\n",
              "    }\n",
              "  </style>\n",
              "\n",
              "      <script>\n",
              "        const buttonEl =\n",
              "          document.querySelector('#df-376f70c9-702f-4dcd-9cfb-acaf0b27289e button.colab-df-convert');\n",
              "        buttonEl.style.display =\n",
              "          google.colab.kernel.accessAllowed ? 'block' : 'none';\n",
              "\n",
              "        async function convertToInteractive(key) {\n",
              "          const element = document.querySelector('#df-376f70c9-702f-4dcd-9cfb-acaf0b27289e');\n",
              "          const dataTable =\n",
              "            await google.colab.kernel.invokeFunction('convertToInteractive',\n",
              "                                                     [key], {});\n",
              "          if (!dataTable) return;\n",
              "\n",
              "          const docLinkHtml = 'Like what you see? Visit the ' +\n",
              "            '<a target=\"_blank\" href=https://colab.research.google.com/notebooks/data_table.ipynb>data table notebook</a>'\n",
              "            + ' to learn more about interactive tables.';\n",
              "          element.innerHTML = '';\n",
              "          dataTable['output_type'] = 'display_data';\n",
              "          await google.colab.output.renderOutput(dataTable, element);\n",
              "          const docLink = document.createElement('div');\n",
              "          docLink.innerHTML = docLinkHtml;\n",
              "          element.appendChild(docLink);\n",
              "        }\n",
              "      </script>\n",
              "    </div>\n",
              "  </div>\n",
              "  "
            ]
          },
          "metadata": {},
          "execution_count": 4
        }
      ],
      "source": [
        "train = pd.read_csv(data_path, sep='\\t')\n",
        "train.head()"
      ]
    },
    {
      "cell_type": "code",
      "execution_count": null,
      "metadata": {
        "id": "SKJSqDbMm5ra"
      },
      "outputs": [],
      "source": [
        "def remove_noise(data):\n",
        "  noise = '@USER'\n",
        "  noise2 = '&amp'\n",
        "  stops = set(stopwords.words('english'))\n",
        "  eyes = '[8:=;]'\n",
        "  nose = \"['`\\-~]\"\n",
        "  # remove URLs\n",
        "  data['clean_tokens'] = [re.sub(\"(?i)\\b((?:https?://|www\\d{0,3}[.]|[a-z0-9.\\-]+[.][a-z]{2,4}/)(?:[^\\s()<>]+|\\(([^\\s()<>]+|(\\([^\\s()<>]+\\)))*\\))+(?:\\(([^\\s()<>]+|(\\([^\\s()<>]+\\)))*\\)|[^\\s`!()\\[\\]{};:'\\\".,<>?«»“”‘’]))\", \"\", tweet) for tweet in data['tweet']]\n",
        "  # remove '@USER' and '&amp'\n",
        "  data['clean_tokens'] = [tweet.replace(noise, '') for tweet in data['clean_tokens']]\n",
        "  data['clean_tokens'] = [tweet.replace(noise2, '') for tweet in data['clean_tokens']]\n",
        "  # remove punctuation, except apostrophes and hashes. keeping 2+ punctuation (only !, ? and .)\n",
        "  data['clean_tokens'] = [re.sub(r'[^\\w\\d\\s\\'\\#\\[!?.]{2,}]+', '', tweet) for tweet in data['clean_tokens']]\n",
        "  # remove digits\n",
        "  data['clean_tokens'] = data['clean_tokens'].apply(lambda x: ' '.join([word for word in x.split() if not word.isdigit()]))\n",
        "  # remove stopwords\n",
        "  data['clean_tokens'] = data['clean_tokens'].apply(lambda x: ' '.join([word for word in x.split() if word not in (stops)]))\n",
        "  # convert non emoji smiley faces & emoticons to words\n",
        "  data['clean_tokens'] = [re.sub(f'{eyes}{nose}*[)]]+|[[(c]+{nose}*{eyes}', 'smile', tweet) for tweet in data['clean_tokens']]\n",
        "  data['clean_tokens'] = [re.sub(f'{eyes}{nose}*[pP]+', 'lolface', tweet) for tweet in data['clean_tokens']]\n",
        "  data['clean_tokens'] = [re.sub(f'{eyes}{nose}*[(c\\/]+|[)\\/]+{nose}*{eyes}', 'sadface', tweet) for tweet in data['clean_tokens']]\n",
        "  data['clean_tokens'] = [re.sub(f'{eyes}{nose}*[\\|l]+', 'neutralface', tweet) for tweet in data['clean_tokens']]\n",
        "  data['clean_tokens'] = [re.sub(f'{eyes}{nose}*[oO$s@&]+', 'otherface', tweet) for tweet in data['clean_tokens']]\n",
        "  data['clean_tokens'] = [re.sub(r'(<3)', 'heart', tweet) for tweet in data['clean_tokens']]\n",
        "  data['clean_tokens'] = [re.sub(r'(</3)', 'brokenheart', tweet) for tweet in data['clean_tokens']]\n",
        "  return data\n",
        "\n",
        "def emojis_to_text(data): \n",
        "  # converting emojis to text before tokenizing; one emoji remains one token\n",
        "  data['clean_tokens'] = [emoji.demojize(tweet) for tweet in data['clean_tokens']]\n",
        "  return data\n",
        "\n",
        "def spelling_correction(data):\n",
        "  symsp = SymSpell()\n",
        "  symsp.load_dictionary(\"frequency_dictionary_en_82_765.txt\", term_index=0, count_index=1, separator=' ')\n",
        "  data['clean_tokens'] = [symsp.lookup_compound(tweet, max_edit_distance=2) for tweet in data['clean_tokens']]\n",
        "  data['clean_tokens'] = [tweet[0].term for tweet in data['clean_tokens']] \n",
        "  return data\n",
        "\n",
        "# textblob has a high time-complexity\n",
        "# spelling correction with SymSpell changes a lot and is not worth it. We'll leave it out.\n",
        "\n",
        "def offensiveness(data):\n",
        "  off_list = ['bitch', 'cunt', 'fuck', 'fucker', 'fucking', 'fucked', 'fucks', 'shit', 'shitty', 'bullshit', \n",
        "              'pussy', 'nigga', 'niggar', 'niggas', 'crap', 'whore', 'dumb', 'dumber', 'dumbest', 'dumbass', \n",
        "              'idiot', 'idiotic', 'bastard', 'dick', 'fascist', 'redneck', 'weirdo', 'scum', 'coward', 'asshole', \n",
        "              'hole', 'filthy', 'racist', 'crook', 'damn', 'corrupt', 'traitor', 'kill', 'hypocrite', 'suck', 'liar', \n",
        "              'ignorant', 'hell', 'clown', 'disgrace', 'butt', 'ugly', 'loser', 'lick', 'fat', 'thug', 'coffin', 'cockroach', \n",
        "              'porn', 'dildo', 'ridiculous', 'gross', 'shut', 'sick', 'crazy', 'trash', 'disgust', 'fake', 'cock', 'garbage']\n",
        "\n",
        "  l = '|'.join(off_list)\n",
        "#  data = data.assign(count = (data.lemmas.str.findall(l)).str.len())\n",
        "  data['offensiveness'] = (data.lemmas.str.findall(l)).str.len() / (data['lemmas'].str.count(' ') + 1)\n",
        "  return data\n",
        "\n",
        "\n",
        "\n",
        "def tokenizer(data):\n",
        "  tk = TweetTokenizer()\n",
        "  data['clean_tokens'] = [tk.tokenize(tweet.lower()) for tweet in data['clean_tokens']]\n",
        "  return data\n",
        "\n",
        "\n",
        "def get_wordnet_pos(word):\n",
        "    # mapping POS tag to a tag that the lemmatizer will accept (doesnt accept nltk pos tags)\n",
        "    tag = nltk.pos_tag([word])[0][1][0].upper()\n",
        "    tag_dict = {\"J\": wordnet.ADJ,\n",
        "                \"N\": wordnet.NOUN,\n",
        "                \"V\": wordnet.VERB,\n",
        "                \"R\": wordnet.ADV}\n",
        "\n",
        "    return tag_dict.get(tag, wordnet.NOUN)\n",
        "\n",
        "def pos_tagger(text):\n",
        "    text_processed = word_tokenize(text)\n",
        "    return \" \".join(tag for (word, tag) in pos_tag(text_processed))\n",
        "\n",
        "def lemmatize(data):\n",
        "  # creates new 'lemmas' column, with a list of lemmas for every tweet\n",
        "  lemmatizer = WordNetLemmatizer()\n",
        "  all_tweet_lemmas = []\n",
        "  \n",
        "  for tweet in data['clean_tokens']:\n",
        "    tweet_lemmas = [lemmatizer.lemmatize(token, pos=get_wordnet_pos(token)) for token in tweet]\n",
        "    all_tweet_lemmas.append(tweet_lemmas)\n",
        "\n",
        "  data['lemmas'] = [tweetlemmas for tweetlemmas in all_tweet_lemmas]\n",
        "  data['lemmas'] = [' '.join(map(str, l)) for l in data['lemmas']]\n",
        "  data['pos_tags'] = data.apply(lambda row: pos_tagger(row['lemmas']), axis=1)\n",
        "  \n",
        "  return data\n",
        "\n",
        "def preprocessor(data):\n",
        "  lemmatize(tokenizer(emojis_to_text(remove_noise(data))))\n",
        "  return data\n",
        "\n",
        "def model(data = train):\n",
        "  preprocessor(data)\n",
        "  X = data[['lemmas', 'pos_tags']]\n",
        "  data['label'] = np.where(data['subtask_a'] == 'NOT', 0, 1)\n",
        "  y = data['label']\n",
        "  X_train, X_test, y_train, y_test = train_test_split(X, y, test_size = 0.30, stratify = y, random_state=101)\n",
        "\n",
        "  clf1 = LogisticRegression(solver = 'sag', penalty = 'l2', C = 10)\n",
        "  clf2 = BernoulliNB()\n",
        "  clf3 = MultinomialNB()\n",
        "  clf4 = XGBClassifier(booster = 'gblinear')\n",
        "  clf5 = XGBClassifier(booster = 'gbtree')\n",
        "\n",
        "  count = CountVectorizer(max_features = 10000)\n",
        "  c_vec = ColumnTransformer([\n",
        "      ('c_vec_lemma', count, 'lemmas'),\n",
        "      ('c_vec_pos', count, 'pos_tags')\n",
        "      ])\n",
        "\n",
        "  tfidf = TfidfVectorizer(max_features = 10000)\n",
        "  t_vec = ColumnTransformer([\n",
        "      ('t_vec_lemma', count, 'lemmas'),\n",
        "      ('t_vec_pos', count, 'pos_tags')\n",
        "      ])\n",
        "\n",
        "  union = FeatureUnion([('c_vec', c_vec), ('t_vec', t_vec)])\n",
        "\n",
        "  vclf = VotingClassifier(estimators = [ ('lr1', clf1), ('bnb', clf2), ('mnb', clf3), ('gbl', clf4), ('gbt', clf5)],\n",
        "                                      voting = 'soft', weights = [2, 4, 8, 1, 2],\n",
        "                                      flatten_transform = True)\n",
        "\n",
        "  params = [{\n",
        "    'union__c_vec__c_vec_lemma__analyzer': ['word'],\n",
        "    'union__c_vec__c_vec_lemma__ngram_range': [(1, 1)],\n",
        "    'union__c_vec__c_vec_pos__analyzer': ['word'],\n",
        "    'union__c_vec__c_vec_pos__ngram_range': [(1, 1)],\n",
        "    'union__t_vec__t_vec_lemma__analyzer': ['word'],\n",
        "    'union__t_vec__t_vec_lemma__ngram_range': [(1, 1)],\n",
        "    'union__t_vec__t_vec_pos__analyzer': ['word'],\n",
        "    'union__t_vec__t_vec_pos__ngram_range': [(1, 1)],\n",
        "    'vclf__gbt__eta': [0.2],\n",
        "    'vclf__gbt__gamma': [1],\n",
        "    'vclf__gbt__sampling_method': ['gradient_based'],\n",
        "    'vclf__bnb__alpha': [0.5],\n",
        "    'vclf__bnb__fit_prior': [True],\n",
        "    'vclf__mnb__alpha': [0.01],\n",
        "    'vclf__mnb__fit_prior': [False]\n",
        "    }]\n",
        "\n",
        "  pipe = Pipeline(steps = [('union', union), ('vclf', vclf)])\n",
        "\n",
        "  gs = GridSearchCV(pipe, params, cv = 5, scoring = 'accuracy', n_jobs = -1, refit = True, verbose = 5)\n",
        "  gs.fit(X_train, y_train)\n",
        "  %time gs.fit(X_train, y_train)\n",
        "\n",
        "  estimator = gs.best_estimator_\n",
        "  y_pred = estimator.predict(X_test)\n",
        "\n",
        "  return estimator, y_pred\n",
        "\n",
        "def make_predictions(test_set, data = train):\n",
        "  test = preprocessor(test_set)\n",
        "  estimator = model(data)[0]\n",
        "  pred = estimator.predict(test_set)\n",
        "  return pred\n",
        "\n",
        "def generate_output_file(filename: str):\n",
        "  test = pd.read_csv(filename)\n",
        "  id = test['id'].to_list()\n",
        "  label = list(make_predictions(test))\n",
        "  name, ext = os.path.splitext(os.path.basename(filename))\n",
        "  out_file = '/content/gdrive/MyDrive/ColabNotebooks/NLP_Files/SharedFolder/NLP/Results/' + name + '_non' + ext\n",
        "  gold_file_path = '/content/gdrive/MyDrive/ColabNotebooks/NLP_Files/SharedFolder/NLP/Results/' + name + '_gold' + ext\n",
        "  gold = pd.read_csv(gold_file_path, sep=',')\n",
        "  output = pd.DataFrame(list(zip(id, label)), columns = ['id', 'label'])\n",
        "  output['label'] = np.where(output['label'] == 0, 'NOT', 'OFF')\n",
        "  output.to_csv(out_file, sep=',', encoding='utf-8', index = False)\n",
        "  y_pred = output['label']\n",
        "  y_test = gold['label']\n",
        "  print(\"Accuracy: {}%\".format(accuracy_score(y_test, y_pred) * 100))\n",
        "  print(classification_report(y_test, y_pred))\n",
        "  cm = confusion_matrix(y_test, y_pred)\n",
        "  print('Confusion Matrix for ' + name + ': \\n' + str(cm))\n",
        "  ConfusionMatrixDisplay.from_predictions(y_test, y_pred)\n",
        "  plot = plt.show()\n",
        "  return \n"
      ]
    },
    {
      "cell_type": "code",
      "source": [
        "generate_output_file('gdrive/MyDrive/ColabNotebooks/NLP_Files/SharedFolder/NLP/ClassicModel/test_IN.csv')"
      ],
      "metadata": {
        "colab": {
          "base_uri": "https://localhost:8080/",
          "height": 661
        },
        "id": "AipHAzIYe8sO",
        "outputId": "798452ac-94ad-46b7-c36a-38d16730e74e"
      },
      "execution_count": null,
      "outputs": [
        {
          "output_type": "stream",
          "name": "stderr",
          "text": [
            "/usr/local/lib/python3.7/dist-packages/ipykernel_launcher.py:19: FutureWarning: Possible nested set at position 21\n"
          ]
        },
        {
          "output_type": "stream",
          "name": "stdout",
          "text": [
            "Fitting 5 folds for each of 1 candidates, totalling 5 fits\n"
          ]
        },
        {
          "output_type": "stream",
          "name": "stderr",
          "text": [
            "/usr/local/lib/python3.7/dist-packages/sklearn/linear_model/_sag.py:354: ConvergenceWarning: The max_iter was reached which means the coef_ did not converge\n",
            "  ConvergenceWarning,\n"
          ]
        },
        {
          "output_type": "stream",
          "name": "stdout",
          "text": [
            "Fitting 5 folds for each of 1 candidates, totalling 5 fits\n"
          ]
        },
        {
          "output_type": "stream",
          "name": "stderr",
          "text": [
            "/usr/local/lib/python3.7/dist-packages/sklearn/linear_model/_sag.py:354: ConvergenceWarning: The max_iter was reached which means the coef_ did not converge\n",
            "  ConvergenceWarning,\n"
          ]
        },
        {
          "output_type": "stream",
          "name": "stdout",
          "text": [
            "CPU times: user 5.54 s, sys: 48.8 ms, total: 5.59 s\n",
            "Wall time: 30 s\n",
            "Accuracy: 77.09302325581395%\n",
            "              precision    recall  f1-score   support\n",
            "\n",
            "         NOT       0.82      0.87      0.85       620\n",
            "         OFF       0.60      0.52      0.56       240\n",
            "\n",
            "    accuracy                           0.77       860\n",
            "   macro avg       0.71      0.69      0.70       860\n",
            "weighted avg       0.76      0.77      0.77       860\n",
            "\n",
            "Confusion Matrix for test_IN: \n",
            "[[538  82]\n",
            " [115 125]]\n"
          ]
        },
        {
          "output_type": "display_data",
          "data": {
            "text/plain": [
              "<Figure size 432x288 with 2 Axes>"
            ],
            "image/png": "[encoded data removed]"
          },
          "metadata": {
            "needs_background": "light"
          }
        }
      ]
    },
    {
      "cell_type": "code",
      "source": [
        "generate_output_file('gdrive/MyDrive/ColabNotebooks/NLP_Files/SharedFolder/NLP/ClassicModel/test_OUT1.csv')"
      ],
      "metadata": {
        "colab": {
          "base_uri": "https://localhost:8080/",
          "height": 643
        },
        "id": "5VP7ya8YVpMF",
        "outputId": "02ad3457-6dd6-478b-9f34-987416009b89"
      },
      "execution_count": null,
      "outputs": [
        {
          "output_type": "stream",
          "name": "stdout",
          "text": [
            "Fitting 5 folds for each of 1 candidates, totalling 5 fits\n"
          ]
        },
        {
          "output_type": "stream",
          "name": "stderr",
          "text": [
            "/usr/local/lib/python3.7/dist-packages/sklearn/linear_model/_sag.py:354: ConvergenceWarning: The max_iter was reached which means the coef_ did not converge\n",
            "  ConvergenceWarning,\n"
          ]
        },
        {
          "output_type": "stream",
          "name": "stdout",
          "text": [
            "Fitting 5 folds for each of 1 candidates, totalling 5 fits\n"
          ]
        },
        {
          "output_type": "stream",
          "name": "stderr",
          "text": [
            "/usr/local/lib/python3.7/dist-packages/sklearn/linear_model/_sag.py:354: ConvergenceWarning: The max_iter was reached which means the coef_ did not converge\n",
            "  ConvergenceWarning,\n"
          ]
        },
        {
          "output_type": "stream",
          "name": "stdout",
          "text": [
            "CPU times: user 5.5 s, sys: 31.1 ms, total: 5.53 s\n",
            "Wall time: 27.4 s\n",
            "Accuracy: 62.63463131731566%\n",
            "              precision    recall  f1-score   support\n",
            "\n",
            "         NOT       0.64      0.73      0.68       664\n",
            "         OFF       0.60      0.50      0.54       543\n",
            "\n",
            "    accuracy                           0.63      1207\n",
            "   macro avg       0.62      0.61      0.61      1207\n",
            "weighted avg       0.62      0.63      0.62      1207\n",
            "\n",
            "Confusion Matrix for test_OUT1: \n",
            "[[487 177]\n",
            " [274 269]]\n"
          ]
        },
        {
          "output_type": "display_data",
          "data": {
            "text/plain": [
              "<Figure size 432x288 with 2 Axes>"
            ],
            "image/png": "[encoded data removed]"
          },
          "metadata": {
            "needs_background": "light"
          }
        }
      ]
    },
    {
      "cell_type": "code",
      "source": [
        "generate_output_file('gdrive/MyDrive/ColabNotebooks/NLP_Files/SharedFolder/NLP/ClassicModel/test_OUT2.csv')"
      ],
      "metadata": {
        "colab": {
          "base_uri": "https://localhost:8080/",
          "height": 643
        },
        "id": "9xCxuhTgVp80",
        "outputId": "5c4d7d70-7bdb-4156-bbeb-6592adfb0444"
      },
      "execution_count": null,
      "outputs": [
        {
          "output_type": "stream",
          "name": "stdout",
          "text": [
            "Fitting 5 folds for each of 1 candidates, totalling 5 fits\n"
          ]
        },
        {
          "output_type": "stream",
          "name": "stderr",
          "text": [
            "/usr/local/lib/python3.7/dist-packages/sklearn/linear_model/_sag.py:354: ConvergenceWarning: The max_iter was reached which means the coef_ did not converge\n",
            "  ConvergenceWarning,\n"
          ]
        },
        {
          "output_type": "stream",
          "name": "stdout",
          "text": [
            "Fitting 5 folds for each of 1 candidates, totalling 5 fits\n"
          ]
        },
        {
          "output_type": "stream",
          "name": "stderr",
          "text": [
            "/usr/local/lib/python3.7/dist-packages/sklearn/linear_model/_sag.py:354: ConvergenceWarning: The max_iter was reached which means the coef_ did not converge\n",
            "  ConvergenceWarning,\n"
          ]
        },
        {
          "output_type": "stream",
          "name": "stdout",
          "text": [
            "CPU times: user 5.53 s, sys: 35.5 ms, total: 5.56 s\n",
            "Wall time: 27.4 s\n",
            "Accuracy: 82.08333333333333%\n",
            "              precision    recall  f1-score   support\n",
            "\n",
            "         NOT       0.82      0.82      0.82       600\n",
            "         OFF       0.82      0.82      0.82       600\n",
            "\n",
            "    accuracy                           0.82      1200\n",
            "   macro avg       0.82      0.82      0.82      1200\n",
            "weighted avg       0.82      0.82      0.82      1200\n",
            "\n",
            "Confusion Matrix for test_OUT2: \n",
            "[[491 109]\n",
            " [106 494]]\n"
          ]
        },
        {
          "output_type": "display_data",
          "data": {
            "text/plain": [
              "<Figure size 432x288 with 2 Axes>"
            ],
            "image/png": "[encoded data removed]"
          },
          "metadata": {
            "needs_background": "light"
          }
        }
      ]
    },
    {
      "cell_type": "code",
      "source": [
        "generate_output_file('gdrive/MyDrive/ColabNotebooks/NLP_Files/SharedFolder/NLP/ClassicModel/test_TEXTGAIN.csv')"
      ],
      "metadata": {
        "colab": {
          "base_uri": "https://localhost:8080/",
          "height": 643
        },
        "id": "m0wYJHZgVqmU",
        "outputId": "af4a12c9-71f6-4652-a11a-c68f44af762d"
      },
      "execution_count": null,
      "outputs": [
        {
          "output_type": "stream",
          "name": "stdout",
          "text": [
            "Fitting 5 folds for each of 1 candidates, totalling 5 fits\n"
          ]
        },
        {
          "output_type": "stream",
          "name": "stderr",
          "text": [
            "/usr/local/lib/python3.7/dist-packages/sklearn/linear_model/_sag.py:354: ConvergenceWarning: The max_iter was reached which means the coef_ did not converge\n",
            "  ConvergenceWarning,\n"
          ]
        },
        {
          "output_type": "stream",
          "name": "stdout",
          "text": [
            "Fitting 5 folds for each of 1 candidates, totalling 5 fits\n"
          ]
        },
        {
          "output_type": "stream",
          "name": "stderr",
          "text": [
            "/usr/local/lib/python3.7/dist-packages/sklearn/linear_model/_sag.py:354: ConvergenceWarning: The max_iter was reached which means the coef_ did not converge\n",
            "  ConvergenceWarning,\n"
          ]
        },
        {
          "output_type": "stream",
          "name": "stdout",
          "text": [
            "CPU times: user 5.56 s, sys: 48.6 ms, total: 5.61 s\n",
            "Wall time: 27.6 s\n",
            "Accuracy: 61.28526645768025%\n",
            "              precision    recall  f1-score   support\n",
            "\n",
            "         NOT       0.89      0.63      0.73      1088\n",
            "         OFF       0.20      0.54      0.29       188\n",
            "\n",
            "    accuracy                           0.61      1276\n",
            "   macro avg       0.54      0.58      0.51      1276\n",
            "weighted avg       0.79      0.61      0.67      1276\n",
            "\n",
            "Confusion Matrix for test_TEXTGAIN: \n",
            "[[681 407]\n",
            " [ 87 101]]\n"
          ]
        },
        {
          "output_type": "display_data",
          "data": {
            "text/plain": [
              "<Figure size 432x288 with 2 Axes>"
            ],
            "image/png": "[encoded data removed]"
          },
          "metadata": {
            "needs_background": "light"
          }
        }
      ]
    }
  ]
}